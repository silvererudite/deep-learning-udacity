{
 "cells": [
  {
   "cell_type": "markdown",
   "metadata": {},
   "source": [
    "# Text Translation and Sentiment Analysis using Transformers"
   ]
  },
  {
   "cell_type": "markdown",
   "metadata": {},
   "source": [
    "## Project Overview:\n",
    "\n",
    "The objective of this project is to analyze the sentiment of movie reviews in three different languages - English, French, and Spanish. We have been given 30 movies, 10 in each language, along with their reviews and synopses in separate CSV files named `movie_reviews_eng.csv`, `movie_reviews_fr.csv`, and `movie_reviews_sp.csv`.\n",
    "\n",
    "- The first step of this project is to convert the French and Spanish reviews and synopses into English. This will allow us to analyze the sentiment of all reviews in the same language. We will be using pre-trained transformers from HuggingFace to achieve this task.\n",
    "\n",
    "- Once the translations are complete, we will create a single dataframe that contains all the movies along with their reviews, synopses, and year of release in all three languages. This dataframe will be used to perform sentiment analysis on the reviews of each movie.\n",
    "\n",
    "- Finally, we will use pretrained transformers from HuggingFace to analyze the sentiment of each review. The sentiment analysis results will be added to the dataframe. The final dataframe will have 30 rows\n",
    "\n",
    "\n",
    "The output of the project will be a CSV file with a header row that includes column names such as **Title**, **Year**, **Synopsis**, **Review**, **Review Sentiment**, and **Original Language**. The **Original Language** column will indicate the language of the review and synopsis (*en/fr/sp*) before translation. The dataframe will consist of 30 rows, with each row corresponding to a movie."
   ]
  },
  {
   "cell_type": "code",
   "execution_count": 1,
   "metadata": {
    "tags": []
   },
   "outputs": [],
   "source": [
    "%%capture\n",
    "!pip install transformers sentencepiece"
   ]
  },
  {
   "cell_type": "code",
   "execution_count": 2,
   "metadata": {
    "tags": []
   },
   "outputs": [],
   "source": [
    "# imports\n",
    "import pandas as pd\n",
    "from transformers import MarianMTModel, MarianTokenizer\n",
    "from transformers import pipeline"
   ]
  },
  {
   "cell_type": "markdown",
   "metadata": {},
   "source": [
    "### Get data from `.csv` files and then preprocess data"
   ]
  },
  {
   "cell_type": "code",
   "execution_count": 3,
   "metadata": {
    "tags": []
   },
   "outputs": [],
   "source": [
    "# use the `pd.read_csv()` function to read the movie_review_*.csv files into 3 separate pandas dataframes\n",
    "\n",
    "# Note: All the dataframes would have different column names. For testing purposes\n",
    "# you should have the following column names/headers -> [Title, Year, Synopsis, Review]\n",
    "\n",
    "def preprocess_data() -> pd.DataFrame:\n",
    "    \"\"\"\n",
    "    Reads movie data from .csv files, map column names, add the \"Original Language\" column,\n",
    "    and finally concatenate in one resultant dataframe called \"df\".\n",
    "    \"\"\"\n",
    "    df_eng = pd.read_csv(\"data/movie_reviews_eng.csv\")\n",
    "    #TODO 1: Add your code here\n",
    "    df_eng['Original_Language'] = 'English'\n",
    "    df_fr = pd.read_csv(\"data/movie_reviews_fr.csv\")\n",
    "    df_fr['Original_Language'] = 'French'\n",
    "    df_sp = pd.read_csv(\"data/movie_reviews_sp.csv\")\n",
    "    df_sp['Original_Language'] = 'Spanish'\n",
    "    df_fr.columns = df_eng.columns\n",
    "    df_sp.columns = df_eng.columns\n",
    "    df = pd.concat([df_eng, df_fr, df_sp]).reset_index(drop='True')\n",
    "    df.rename(columns={'Movie / TV Series': 'Title'}, inplace=True)\n",
    "    \n",
    "    return df\n",
    "df = preprocess_data()"
   ]
  },
  {
   "cell_type": "code",
   "execution_count": 4,
   "metadata": {
    "tags": []
   },
   "outputs": [
    {
     "data": {
      "text/html": [
       "<div>\n",
       "<style scoped>\n",
       "    .dataframe tbody tr th:only-of-type {\n",
       "        vertical-align: middle;\n",
       "    }\n",
       "\n",
       "    .dataframe tbody tr th {\n",
       "        vertical-align: top;\n",
       "    }\n",
       "\n",
       "    .dataframe thead th {\n",
       "        text-align: right;\n",
       "    }\n",
       "</style>\n",
       "<table border=\"1\" class=\"dataframe\">\n",
       "  <thead>\n",
       "    <tr style=\"text-align: right;\">\n",
       "      <th></th>\n",
       "      <th>Title</th>\n",
       "      <th>Year</th>\n",
       "      <th>Synopsis</th>\n",
       "      <th>Review</th>\n",
       "      <th>Original_Language</th>\n",
       "    </tr>\n",
       "  </thead>\n",
       "  <tbody>\n",
       "    <tr>\n",
       "      <th>9</th>\n",
       "      <td>The Island</td>\n",
       "      <td>2005</td>\n",
       "      <td>In a future where people are cloned for organ ...</td>\n",
       "      <td>\"The Island is a bland and forgettable sci-fi ...</td>\n",
       "      <td>English</td>\n",
       "    </tr>\n",
       "    <tr>\n",
       "      <th>4</th>\n",
       "      <td>Inception</td>\n",
       "      <td>2010</td>\n",
       "      <td>Dom Cobb (Leonardo DiCaprio) is a skilled thie...</td>\n",
       "      <td>\"Inception is a mind-bending and visually stun...</td>\n",
       "      <td>English</td>\n",
       "    </tr>\n",
       "    <tr>\n",
       "      <th>21</th>\n",
       "      <td>La Casa de Papel</td>\n",
       "      <td>(2017-2021)</td>\n",
       "      <td>Esta serie de televisión española sigue a un g...</td>\n",
       "      <td>\"La Casa de Papel es una serie emocionante y a...</td>\n",
       "      <td>Spanish</td>\n",
       "    </tr>\n",
       "    <tr>\n",
       "      <th>5</th>\n",
       "      <td>Blade Runner 2049</td>\n",
       "      <td>2017</td>\n",
       "      <td>Officer K (Ryan Gosling), a new blade runner f...</td>\n",
       "      <td>\"Boring and too long. Nothing like the origina...</td>\n",
       "      <td>English</td>\n",
       "    </tr>\n",
       "    <tr>\n",
       "      <th>7</th>\n",
       "      <td>The Nice Guys</td>\n",
       "      <td>2016</td>\n",
       "      <td>In 1970s Los Angeles, a private eye (Ryan Gosl...</td>\n",
       "      <td>\"The Nice Guys tries too hard to be funny, and...</td>\n",
       "      <td>English</td>\n",
       "    </tr>\n",
       "    <tr>\n",
       "      <th>29</th>\n",
       "      <td>El Incidente</td>\n",
       "      <td>2014</td>\n",
       "      <td>En esta película de terror mexicana, un grupo ...</td>\n",
       "      <td>\"El Incidente es una película aburrida y sin s...</td>\n",
       "      <td>Spanish</td>\n",
       "    </tr>\n",
       "    <tr>\n",
       "      <th>28</th>\n",
       "      <td>Torrente: El brazo tonto de la ley</td>\n",
       "      <td>1998</td>\n",
       "      <td>En esta comedia española, un policía corrupto ...</td>\n",
       "      <td>\"Torrente es una película vulgar y ofensiva qu...</td>\n",
       "      <td>Spanish</td>\n",
       "    </tr>\n",
       "    <tr>\n",
       "      <th>11</th>\n",
       "      <td>Intouchables</td>\n",
       "      <td>2011</td>\n",
       "      <td>Ce film raconte l'histoire de l'amitié improba...</td>\n",
       "      <td>\"Intouchables est un film incroyablement touch...</td>\n",
       "      <td>French</td>\n",
       "    </tr>\n",
       "    <tr>\n",
       "      <th>25</th>\n",
       "      <td>Águila Roja</td>\n",
       "      <td>(2009-2016)</td>\n",
       "      <td>Esta serie de televisión española sigue las av...</td>\n",
       "      <td>\"Águila Roja es una serie aburrida y poco inte...</td>\n",
       "      <td>Spanish</td>\n",
       "    </tr>\n",
       "    <tr>\n",
       "      <th>3</th>\n",
       "      <td>The Godfather</td>\n",
       "      <td>1972</td>\n",
       "      <td>Don Vito Corleone (Marlon Brando) is the head ...</td>\n",
       "      <td>\"The Godfather is a classic movie that stands ...</td>\n",
       "      <td>English</td>\n",
       "    </tr>\n",
       "  </tbody>\n",
       "</table>\n",
       "</div>"
      ],
      "text/plain": [
       "                                 Title         Year  \\\n",
       "9                           The Island         2005   \n",
       "4                            Inception         2010   \n",
       "21                    La Casa de Papel  (2017-2021)   \n",
       "5                    Blade Runner 2049         2017   \n",
       "7                        The Nice Guys         2016   \n",
       "29                        El Incidente         2014   \n",
       "28  Torrente: El brazo tonto de la ley         1998   \n",
       "11                        Intouchables         2011   \n",
       "25                        Águila Roja   (2009-2016)   \n",
       "3                       The Godfather          1972   \n",
       "\n",
       "                                             Synopsis  \\\n",
       "9   In a future where people are cloned for organ ...   \n",
       "4   Dom Cobb (Leonardo DiCaprio) is a skilled thie...   \n",
       "21  Esta serie de televisión española sigue a un g...   \n",
       "5   Officer K (Ryan Gosling), a new blade runner f...   \n",
       "7   In 1970s Los Angeles, a private eye (Ryan Gosl...   \n",
       "29  En esta película de terror mexicana, un grupo ...   \n",
       "28  En esta comedia española, un policía corrupto ...   \n",
       "11  Ce film raconte l'histoire de l'amitié improba...   \n",
       "25  Esta serie de televisión española sigue las av...   \n",
       "3   Don Vito Corleone (Marlon Brando) is the head ...   \n",
       "\n",
       "                                               Review Original_Language  \n",
       "9   \"The Island is a bland and forgettable sci-fi ...           English  \n",
       "4   \"Inception is a mind-bending and visually stun...           English  \n",
       "21  \"La Casa de Papel es una serie emocionante y a...           Spanish  \n",
       "5   \"Boring and too long. Nothing like the origina...           English  \n",
       "7   \"The Nice Guys tries too hard to be funny, and...           English  \n",
       "29  \"El Incidente es una película aburrida y sin s...           Spanish  \n",
       "28  \"Torrente es una película vulgar y ofensiva qu...           Spanish  \n",
       "11  \"Intouchables est un film incroyablement touch...            French  \n",
       "25  \"Águila Roja es una serie aburrida y poco inte...           Spanish  \n",
       "3   \"The Godfather is a classic movie that stands ...           English  "
      ]
     },
     "execution_count": 4,
     "metadata": {},
     "output_type": "execute_result"
    }
   ],
   "source": [
    "df.sample(10)"
   ]
  },
  {
   "cell_type": "markdown",
   "metadata": {},
   "source": [
    "### Text translation\n",
    "\n",
    "Translate the **Review** and **Synopsis** column values to English."
   ]
  },
  {
   "cell_type": "code",
   "execution_count": 5,
   "metadata": {
    "tags": []
   },
   "outputs": [
    {
     "name": "stderr",
     "output_type": "stream",
     "text": [
      "/home/ec2-user/anaconda3/envs/pytorch_p310/lib/python3.10/site-packages/torch/_utils.py:831: UserWarning: TypedStorage is deprecated. It will be removed in the future and UntypedStorage will be the only storage class. This should only matter to you if you are using storages directly.  To access UntypedStorage directly, use tensor.untyped_storage() instead of tensor.storage()\n",
      "  return self.fget.__get__(instance, owner)()\n"
     ]
    },
    {
     "data": {
      "application/vnd.jupyter.widget-view+json": {
       "model_id": "e1249b26c20e43db9ba37f4619313ab0",
       "version_major": 2,
       "version_minor": 0
      },
      "text/plain": [
       "tokenizer_config.json:   0%|          | 0.00/42.0 [00:00<?, ?B/s]"
      ]
     },
     "metadata": {},
     "output_type": "display_data"
    },
    {
     "data": {
      "application/vnd.jupyter.widget-view+json": {
       "model_id": "fa081a552e7a41308347e6dcadcd8c86",
       "version_major": 2,
       "version_minor": 0
      },
      "text/plain": [
       "source.spm:   0%|          | 0.00/802k [00:00<?, ?B/s]"
      ]
     },
     "metadata": {},
     "output_type": "display_data"
    },
    {
     "data": {
      "application/vnd.jupyter.widget-view+json": {
       "model_id": "3d351e8a30e2404f9a55cf1e11c25af2",
       "version_major": 2,
       "version_minor": 0
      },
      "text/plain": [
       "target.spm:   0%|          | 0.00/778k [00:00<?, ?B/s]"
      ]
     },
     "metadata": {},
     "output_type": "display_data"
    },
    {
     "data": {
      "application/vnd.jupyter.widget-view+json": {
       "model_id": "e002448ef21f4502b54e5f9dd844e57f",
       "version_major": 2,
       "version_minor": 0
      },
      "text/plain": [
       "vocab.json:   0%|          | 0.00/1.34M [00:00<?, ?B/s]"
      ]
     },
     "metadata": {},
     "output_type": "display_data"
    },
    {
     "name": "stderr",
     "output_type": "stream",
     "text": [
      "/home/ec2-user/anaconda3/envs/pytorch_p310/lib/python3.10/site-packages/transformers/models/marian/tokenization_marian.py:175: UserWarning: Recommended: pip install sacremoses.\n",
      "  warnings.warn(\"Recommended: pip install sacremoses.\")\n"
     ]
    },
    {
     "data": {
      "application/vnd.jupyter.widget-view+json": {
       "model_id": "59953a7d1805487c961fedd2a64582b0",
       "version_major": 2,
       "version_minor": 0
      },
      "text/plain": [
       "tokenizer_config.json:   0%|          | 0.00/44.0 [00:00<?, ?B/s]"
      ]
     },
     "metadata": {},
     "output_type": "display_data"
    },
    {
     "data": {
      "application/vnd.jupyter.widget-view+json": {
       "model_id": "b92ee17d875f470b9dbc68603c6862f9",
       "version_major": 2,
       "version_minor": 0
      },
      "text/plain": [
       "source.spm:   0%|          | 0.00/826k [00:00<?, ?B/s]"
      ]
     },
     "metadata": {},
     "output_type": "display_data"
    },
    {
     "data": {
      "application/vnd.jupyter.widget-view+json": {
       "model_id": "00f469c4bd0748748e2d7f1f07b1ac11",
       "version_major": 2,
       "version_minor": 0
      },
      "text/plain": [
       "target.spm:   0%|          | 0.00/802k [00:00<?, ?B/s]"
      ]
     },
     "metadata": {},
     "output_type": "display_data"
    },
    {
     "data": {
      "application/vnd.jupyter.widget-view+json": {
       "model_id": "c255d652d9ca431d9abccadb94b785d4",
       "version_major": 2,
       "version_minor": 0
      },
      "text/plain": [
       "vocab.json:   0%|          | 0.00/1.59M [00:00<?, ?B/s]"
      ]
     },
     "metadata": {},
     "output_type": "display_data"
    }
   ],
   "source": [
    "# load translation models and tokenizers\n",
    "# TODO 2: Update the code below\n",
    "fr_en_model_name = \"Helsinki-NLP/opus-mt-fr-en\"\n",
    "es_en_model_name = \"Helsinki-NLP/opus-mt-es-en\"\n",
    "fr_en_model = MarianMTModel.from_pretrained(fr_en_model_name)\n",
    "es_en_model = MarianMTModel.from_pretrained(es_en_model_name)\n",
    "fr_en_tokenizer = MarianTokenizer.from_pretrained(fr_en_model_name)\n",
    "es_en_tokenizer = MarianTokenizer.from_pretrained(es_en_model_name)\n",
    "\n",
    "# TODO 3: Complete the function below\n",
    "def translate(text: str, model, tokenizer) -> str:\n",
    "    \"\"\"\n",
    "    function to translate a text using a model and tokenizer\n",
    "    \"\"\"\n",
    "    # encode the text using the tokenizer\n",
    "    inputs = tokenizer(text, return_tensors=\"pt\")\n",
    "\n",
    "    # generate the translation using the model\n",
    "    outputs = model.generate(**inputs)\n",
    "\n",
    "    # decode the generated output and return the translated text\n",
    "    decoded = tokenizer.decode(outputs[0], skip_special_tokens=True)\n",
    "    \n",
    "    return decoded"
   ]
  },
  {
   "cell_type": "code",
   "execution_count": 6,
   "metadata": {
    "tags": []
   },
   "outputs": [],
   "source": [
    "# TODO 4: Update the code below\n",
    "\n",
    "fr_reviews = df[df.Original_Language == 'French']['Review']\n",
    "fr_reviews_en = fr_reviews.apply(lambda x: translate(x, model=fr_en_model, tokenizer=fr_en_tokenizer))\n",
    "\n",
    "# filter synopsis in French and translate to English\n",
    "fr_synopsis = df[df.Original_Language == 'French']['Synopsis']\n",
    "fr_synopsis_en = fr_synopsis.apply(lambda x: translate(x, model=fr_en_model, tokenizer=fr_en_tokenizer))\n",
    "\n",
    "# filter reviews in Spanish and translate to English\n",
    "es_reviews = df[df.Original_Language == 'Spanish']['Review']\n",
    "es_reviews_en = es_reviews.apply(lambda x: translate(x, model=es_en_model, tokenizer=es_en_tokenizer))\n",
    "\n",
    "# filter synopsis in Spanish and translate to English\n",
    "es_synopsis = df[df.Original_Language == 'Spanish']['Synopsis']\n",
    "es_synopsis_en = es_synopsis.apply(lambda x: translate(x, model=es_en_model, tokenizer=es_en_tokenizer))\n",
    "\n",
    "# update dataframe with translated text\n",
    "df.loc[df.Original_Language == 'French', 'Review'] = fr_reviews_en\n",
    "df.loc[df.Original_Language == 'French', 'Synopsis'] = fr_synopsis_en\n",
    "df.loc[df.Original_Language == 'Spanish', 'Review'] = es_reviews_en\n",
    "df.loc[df.Original_Language == 'Spanish', 'Synopsis'] = es_synopsis_en"
   ]
  },
  {
   "cell_type": "code",
   "execution_count": 7,
   "metadata": {
    "tags": []
   },
   "outputs": [
    {
     "data": {
      "text/html": [
       "<div>\n",
       "<style scoped>\n",
       "    .dataframe tbody tr th:only-of-type {\n",
       "        vertical-align: middle;\n",
       "    }\n",
       "\n",
       "    .dataframe tbody tr th {\n",
       "        vertical-align: top;\n",
       "    }\n",
       "\n",
       "    .dataframe thead th {\n",
       "        text-align: right;\n",
       "    }\n",
       "</style>\n",
       "<table border=\"1\" class=\"dataframe\">\n",
       "  <thead>\n",
       "    <tr style=\"text-align: right;\">\n",
       "      <th></th>\n",
       "      <th>Title</th>\n",
       "      <th>Year</th>\n",
       "      <th>Synopsis</th>\n",
       "      <th>Review</th>\n",
       "      <th>Original_Language</th>\n",
       "    </tr>\n",
       "  </thead>\n",
       "  <tbody>\n",
       "    <tr>\n",
       "      <th>8</th>\n",
       "      <td>Solo: A Star Wars Story</td>\n",
       "      <td>2018</td>\n",
       "      <td>A young Han Solo (Alden Ehrenreich) joins a gr...</td>\n",
       "      <td>\"Dull and pointless, with none of the magic of...</td>\n",
       "      <td>English</td>\n",
       "    </tr>\n",
       "    <tr>\n",
       "      <th>3</th>\n",
       "      <td>The Godfather</td>\n",
       "      <td>1972</td>\n",
       "      <td>Don Vito Corleone (Marlon Brando) is the head ...</td>\n",
       "      <td>\"The Godfather is a classic movie that stands ...</td>\n",
       "      <td>English</td>\n",
       "    </tr>\n",
       "    <tr>\n",
       "      <th>27</th>\n",
       "      <td>El Bar</td>\n",
       "      <td>2017</td>\n",
       "      <td>A group of people are trapped in a bar after M...</td>\n",
       "      <td>\"The Bar is a ridiculous and meaningless film ...</td>\n",
       "      <td>Spanish</td>\n",
       "    </tr>\n",
       "    <tr>\n",
       "      <th>14</th>\n",
       "      <td>Le Fabuleux Destin d'Amélie Poulain</td>\n",
       "      <td>2001</td>\n",
       "      <td>This romantic comedy tells the story of Amélie...</td>\n",
       "      <td>\"The Fabulous Destiny of Amélie Poulain is an ...</td>\n",
       "      <td>French</td>\n",
       "    </tr>\n",
       "    <tr>\n",
       "      <th>10</th>\n",
       "      <td>La La Land</td>\n",
       "      <td>2016</td>\n",
       "      <td>This musical tells the story of a budding actr...</td>\n",
       "      <td>\"The Land is an absolutely beautiful film with...</td>\n",
       "      <td>French</td>\n",
       "    </tr>\n",
       "  </tbody>\n",
       "</table>\n",
       "</div>"
      ],
      "text/plain": [
       "                                  Title  Year  \\\n",
       "8               Solo: A Star Wars Story  2018   \n",
       "3                        The Godfather   1972   \n",
       "27                               El Bar  2017   \n",
       "14  Le Fabuleux Destin d'Amélie Poulain  2001   \n",
       "10                           La La Land  2016   \n",
       "\n",
       "                                             Synopsis  \\\n",
       "8   A young Han Solo (Alden Ehrenreich) joins a gr...   \n",
       "3   Don Vito Corleone (Marlon Brando) is the head ...   \n",
       "27  A group of people are trapped in a bar after M...   \n",
       "14  This romantic comedy tells the story of Amélie...   \n",
       "10  This musical tells the story of a budding actr...   \n",
       "\n",
       "                                               Review Original_Language  \n",
       "8   \"Dull and pointless, with none of the magic of...           English  \n",
       "3   \"The Godfather is a classic movie that stands ...           English  \n",
       "27  \"The Bar is a ridiculous and meaningless film ...           Spanish  \n",
       "14  \"The Fabulous Destiny of Amélie Poulain is an ...            French  \n",
       "10  \"The Land is an absolutely beautiful film with...            French  "
      ]
     },
     "execution_count": 7,
     "metadata": {},
     "output_type": "execute_result"
    }
   ],
   "source": [
    "df.sample(5)"
   ]
  },
  {
   "cell_type": "markdown",
   "metadata": {},
   "source": [
    "### Sentiment Analysis\n",
    "\n",
    "Use HuggingFace pretrained model for sentiment analysis of the reviews. Store the sentiment result **Positive** or **Negative** in a new column titled **Sentiment** in the dataframe."
   ]
  },
  {
   "cell_type": "code",
   "execution_count": 27,
   "metadata": {
    "tags": []
   },
   "outputs": [
    {
     "data": {
      "application/vnd.jupyter.widget-view+json": {
       "model_id": "c48a68a74471400d92da62cc50cd05d2",
       "version_major": 2,
       "version_minor": 0
      },
      "text/plain": [
       "config.json:   0%|          | 0.00/615 [00:00<?, ?B/s]"
      ]
     },
     "metadata": {},
     "output_type": "display_data"
    },
    {
     "data": {
      "application/vnd.jupyter.widget-view+json": {
       "model_id": "be6da90688fa4760886e84ec512bd70b",
       "version_major": 2,
       "version_minor": 0
      },
      "text/plain": [
       "pytorch_model.bin:   0%|          | 0.00/268M [00:00<?, ?B/s]"
      ]
     },
     "metadata": {},
     "output_type": "display_data"
    },
    {
     "data": {
      "application/vnd.jupyter.widget-view+json": {
       "model_id": "ff3ba83caeb14736b4c7d18e2f394cc2",
       "version_major": 2,
       "version_minor": 0
      },
      "text/plain": [
       "tokenizer_config.json:   0%|          | 0.00/333 [00:00<?, ?B/s]"
      ]
     },
     "metadata": {},
     "output_type": "display_data"
    },
    {
     "data": {
      "application/vnd.jupyter.widget-view+json": {
       "model_id": "3b51de3645424d22929d3c37a0dec79b",
       "version_major": 2,
       "version_minor": 0
      },
      "text/plain": [
       "vocab.txt:   0%|          | 0.00/232k [00:00<?, ?B/s]"
      ]
     },
     "metadata": {},
     "output_type": "display_data"
    },
    {
     "data": {
      "application/vnd.jupyter.widget-view+json": {
       "model_id": "b6c3467e2602417bb60a5ebd11ca8760",
       "version_major": 2,
       "version_minor": 0
      },
      "text/plain": [
       "tokenizer.json:   0%|          | 0.00/711k [00:00<?, ?B/s]"
      ]
     },
     "metadata": {},
     "output_type": "display_data"
    },
    {
     "data": {
      "application/vnd.jupyter.widget-view+json": {
       "model_id": "63413dd7ce4443749f65fa469266e53e",
       "version_major": 2,
       "version_minor": 0
      },
      "text/plain": [
       "special_tokens_map.json:   0%|          | 0.00/112 [00:00<?, ?B/s]"
      ]
     },
     "metadata": {},
     "output_type": "display_data"
    }
   ],
   "source": [
    "# TODO 5: Update the code below\n",
    "# load sentiment analysis model\n",
    "model_name = \"BAHIJA/distilbert-base-uncased-finetuned-cola\"\n",
    "sentiment_classifier = pipeline(\"sentiment-analysis\", model=model_name)\n",
    "\n",
    "label_map = {\n",
    "    \"LABEL_1\": \"NEGATIVE\",\n",
    "    \"LABEL_2\": \"POSITIVE\",\n",
    "}\n",
    "\n",
    "# analyze sentiment function\n",
    "def analyze_sentiment(text, classifier, label_map):\n",
    "    \"\"\"\n",
    "    function to perform sentiment analysis on a text using a model\n",
    "    \"\"\"\n",
    "    sentiment_result = classifier(text)\n",
    "    \n",
    "    # Extract sentiment label (e.g., 'POSITIVE' or 'NEGATIVE') from the result\n",
    "    sentiment_label = sentiment_result[0]['label']\n",
    "    \n",
    "    # Map the label to human-readable sentiment category\n",
    "    sentiment_category = label_map.get(sentiment_label, \"UNKNOWN\")\n",
    "    \n",
    "    return sentiment_category"
   ]
  },
  {
   "cell_type": "code",
   "execution_count": 28,
   "metadata": {
    "tags": []
   },
   "outputs": [],
   "source": [
    "# TODO 7: Add code below for sentiment analysis\n",
    "# perform sentiment analysis on reviews and store results in new column\n",
    "df['Sentiment'] = df['Review'].apply(lambda x: analyze_sentiment(x, sentiment_classifier, label_map))"
   ]
  },
  {
   "cell_type": "code",
   "execution_count": 29,
   "metadata": {
    "tags": []
   },
   "outputs": [
    {
     "data": {
      "text/html": [
       "<div>\n",
       "<style scoped>\n",
       "    .dataframe tbody tr th:only-of-type {\n",
       "        vertical-align: middle;\n",
       "    }\n",
       "\n",
       "    .dataframe tbody tr th {\n",
       "        vertical-align: top;\n",
       "    }\n",
       "\n",
       "    .dataframe thead th {\n",
       "        text-align: right;\n",
       "    }\n",
       "</style>\n",
       "<table border=\"1\" class=\"dataframe\">\n",
       "  <thead>\n",
       "    <tr style=\"text-align: right;\">\n",
       "      <th></th>\n",
       "      <th>Title</th>\n",
       "      <th>Year</th>\n",
       "      <th>Synopsis</th>\n",
       "      <th>Review</th>\n",
       "      <th>Original_Language</th>\n",
       "      <th>Sentiment</th>\n",
       "    </tr>\n",
       "  </thead>\n",
       "  <tbody>\n",
       "    <tr>\n",
       "      <th>23</th>\n",
       "      <td>El Laberinto del Fauno</td>\n",
       "      <td>2006</td>\n",
       "      <td>During the Spanish postwar period, Ofelia (Iva...</td>\n",
       "      <td>\"The Labyrinth of Fauno is a fascinating and e...</td>\n",
       "      <td>Spanish</td>\n",
       "      <td>NEGATIVE</td>\n",
       "    </tr>\n",
       "    <tr>\n",
       "      <th>27</th>\n",
       "      <td>El Bar</td>\n",
       "      <td>2017</td>\n",
       "      <td>A group of people are trapped in a bar after M...</td>\n",
       "      <td>\"The Bar is a ridiculous and meaningless film ...</td>\n",
       "      <td>Spanish</td>\n",
       "      <td>NEGATIVE</td>\n",
       "    </tr>\n",
       "    <tr>\n",
       "      <th>29</th>\n",
       "      <td>El Incidente</td>\n",
       "      <td>2014</td>\n",
       "      <td>In this Mexican horror film, a group of people...</td>\n",
       "      <td>\"The Incident is a boring and frightless film ...</td>\n",
       "      <td>Spanish</td>\n",
       "      <td>NEGATIVE</td>\n",
       "    </tr>\n",
       "    <tr>\n",
       "      <th>13</th>\n",
       "      <td>Les Choristes</td>\n",
       "      <td>2004</td>\n",
       "      <td>This film tells the story of a music teacher w...</td>\n",
       "      <td>\"The Choristes are a beautiful film that will ...</td>\n",
       "      <td>French</td>\n",
       "      <td>NEGATIVE</td>\n",
       "    </tr>\n",
       "    <tr>\n",
       "      <th>17</th>\n",
       "      <td>Astérix aux Jeux Olympiques</td>\n",
       "      <td>2008</td>\n",
       "      <td>In this film adaptation of the popular comic s...</td>\n",
       "      <td>\"This film is a complete disappointment. The j...</td>\n",
       "      <td>French</td>\n",
       "      <td>NEGATIVE</td>\n",
       "    </tr>\n",
       "    <tr>\n",
       "      <th>16</th>\n",
       "      <td>La Tour Montparnasse Infernale</td>\n",
       "      <td>2001</td>\n",
       "      <td>Two incompetent office workers find themselves...</td>\n",
       "      <td>\"I can't believe I've wasted time watching thi...</td>\n",
       "      <td>French</td>\n",
       "      <td>NEGATIVE</td>\n",
       "    </tr>\n",
       "    <tr>\n",
       "      <th>0</th>\n",
       "      <td>The Shawshank Redemption</td>\n",
       "      <td>1994</td>\n",
       "      <td>Andy Dufresne (Tim Robbins), a successful bank...</td>\n",
       "      <td>\"The Shawshank Redemption is an inspiring tale...</td>\n",
       "      <td>English</td>\n",
       "      <td>NEGATIVE</td>\n",
       "    </tr>\n",
       "    <tr>\n",
       "      <th>5</th>\n",
       "      <td>Blade Runner 2049</td>\n",
       "      <td>2017</td>\n",
       "      <td>Officer K (Ryan Gosling), a new blade runner f...</td>\n",
       "      <td>\"Boring and too long. Nothing like the origina...</td>\n",
       "      <td>English</td>\n",
       "      <td>NEGATIVE</td>\n",
       "    </tr>\n",
       "    <tr>\n",
       "      <th>9</th>\n",
       "      <td>The Island</td>\n",
       "      <td>2005</td>\n",
       "      <td>In a future where people are cloned for organ ...</td>\n",
       "      <td>\"The Island is a bland and forgettable sci-fi ...</td>\n",
       "      <td>English</td>\n",
       "      <td>NEGATIVE</td>\n",
       "    </tr>\n",
       "    <tr>\n",
       "      <th>22</th>\n",
       "      <td>Y tu mamá también</td>\n",
       "      <td>2001</td>\n",
       "      <td>Two teenage friends (Gael García Bernal and Di...</td>\n",
       "      <td>\"And your mom is also a movie that stays with ...</td>\n",
       "      <td>Spanish</td>\n",
       "      <td>NEGATIVE</td>\n",
       "    </tr>\n",
       "  </tbody>\n",
       "</table>\n",
       "</div>"
      ],
      "text/plain": [
       "                             Title  Year  \\\n",
       "23          El Laberinto del Fauno  2006   \n",
       "27                          El Bar  2017   \n",
       "29                    El Incidente  2014   \n",
       "13                   Les Choristes  2004   \n",
       "17     Astérix aux Jeux Olympiques  2008   \n",
       "16  La Tour Montparnasse Infernale  2001   \n",
       "0        The Shawshank Redemption   1994   \n",
       "5                Blade Runner 2049  2017   \n",
       "9                       The Island  2005   \n",
       "22               Y tu mamá también  2001   \n",
       "\n",
       "                                             Synopsis  \\\n",
       "23  During the Spanish postwar period, Ofelia (Iva...   \n",
       "27  A group of people are trapped in a bar after M...   \n",
       "29  In this Mexican horror film, a group of people...   \n",
       "13  This film tells the story of a music teacher w...   \n",
       "17  In this film adaptation of the popular comic s...   \n",
       "16  Two incompetent office workers find themselves...   \n",
       "0   Andy Dufresne (Tim Robbins), a successful bank...   \n",
       "5   Officer K (Ryan Gosling), a new blade runner f...   \n",
       "9   In a future where people are cloned for organ ...   \n",
       "22  Two teenage friends (Gael García Bernal and Di...   \n",
       "\n",
       "                                               Review Original_Language  \\\n",
       "23  \"The Labyrinth of Fauno is a fascinating and e...           Spanish   \n",
       "27  \"The Bar is a ridiculous and meaningless film ...           Spanish   \n",
       "29  \"The Incident is a boring and frightless film ...           Spanish   \n",
       "13  \"The Choristes are a beautiful film that will ...            French   \n",
       "17  \"This film is a complete disappointment. The j...            French   \n",
       "16  \"I can't believe I've wasted time watching thi...            French   \n",
       "0   \"The Shawshank Redemption is an inspiring tale...           English   \n",
       "5   \"Boring and too long. Nothing like the origina...           English   \n",
       "9   \"The Island is a bland and forgettable sci-fi ...           English   \n",
       "22  \"And your mom is also a movie that stays with ...           Spanish   \n",
       "\n",
       "   Sentiment  \n",
       "23  NEGATIVE  \n",
       "27  NEGATIVE  \n",
       "29  NEGATIVE  \n",
       "13  NEGATIVE  \n",
       "17  NEGATIVE  \n",
       "16  NEGATIVE  \n",
       "0   NEGATIVE  \n",
       "5   NEGATIVE  \n",
       "9   NEGATIVE  \n",
       "22  NEGATIVE  "
      ]
     },
     "execution_count": 29,
     "metadata": {},
     "output_type": "execute_result"
    }
   ],
   "source": [
    "df.sample(10)"
   ]
  },
  {
   "cell_type": "code",
   "execution_count": 30,
   "metadata": {
    "tags": []
   },
   "outputs": [],
   "source": [
    "# export the results to a .csv file\n",
    "df.to_csv(\"reviews_with_sentiment.csv\", index=False)"
   ]
  },
  {
   "cell_type": "code",
   "execution_count": null,
   "metadata": {},
   "outputs": [],
   "source": []
  }
 ],
 "metadata": {
  "kernelspec": {
   "display_name": "conda_pytorch_p310",
   "language": "python",
   "name": "conda_pytorch_p310"
  },
  "language_info": {
   "codemirror_mode": {
    "name": "ipython",
    "version": 3
   },
   "file_extension": ".py",
   "mimetype": "text/x-python",
   "name": "python",
   "nbconvert_exporter": "python",
   "pygments_lexer": "ipython3",
   "version": "3.10.14"
  }
 },
 "nbformat": 4,
 "nbformat_minor": 4
}
