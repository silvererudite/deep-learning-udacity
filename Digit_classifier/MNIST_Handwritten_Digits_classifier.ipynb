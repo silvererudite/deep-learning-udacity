{
 "cells": [
  {
   "cell_type": "markdown",
   "metadata": {},
   "source": [
    "# Introduction\n",
    "\n",
    "In this project, you will build a neural network of your own design to evaluate the MNIST dataset.\n",
    "\n",
    "Some of the benchmark results on MNIST include can be found [on Yann LeCun's page](https://webcache.googleusercontent.com/search?q=cache:stAVPik6onEJ:yann.lecun.com/exdb/mnist) and include:\n",
    "\n",
    "88% [Lecun et al., 1998](https://hal.science/hal-03926082/document)\n",
    "\n",
    "95.3% [Lecun et al., 1998](https://hal.science/hal-03926082v1/document)\n",
    "\n",
    "99.65% [Ciresan et al., 2011](http://people.idsia.ch/~juergen/ijcai2011.pdf)\n",
    "\n",
    "\n",
    "MNIST is a great dataset for sanity checking your models, since the accuracy levels achieved by large convolutional neural networks and small linear models are both quite high. This makes it important to be familiar with the data.\n",
    "\n",
    "## Installation"
   ]
  },
  {
   "cell_type": "code",
   "execution_count": 1,
   "metadata": {
    "tags": []
   },
   "outputs": [],
   "source": [
    "# Update the PATH to include the user installation directory. \n",
    "import os\n",
    "os.environ['PATH'] = f\"{os.environ['PATH']}:/root/.local/bin\"\n",
    "\n",
    "# Restart the Kernel before you move on to the next step."
   ]
  },
  {
   "cell_type": "markdown",
   "metadata": {},
   "source": [
    "#### Important: Restart the Kernel before you move on to the next step."
   ]
  },
  {
   "cell_type": "code",
   "execution_count": 2,
   "metadata": {
    "tags": []
   },
   "outputs": [],
   "source": [
    "%%capture\n",
    "!python -m pip install -r requirements.txt"
   ]
  },
  {
   "cell_type": "markdown",
   "metadata": {},
   "source": [
    "## Imports"
   ]
  },
  {
   "cell_type": "code",
   "execution_count": 9,
   "metadata": {
    "tags": []
   },
   "outputs": [],
   "source": [
    "## This cell contains the essential imports you will need – DO NOT CHANGE THE CONTENTS! ##\n",
    "import torch\n",
    "import torch.nn as nn\n",
    "import torch.nn.functional as F\n",
    "import torch.optim as optim\n",
    "import torchvision\n",
    "from torchvision import transforms\n",
    "import matplotlib.pyplot as plt\n",
    "import numpy as np\n",
    "from torch.utils.data import DataLoader\n",
    "from torch.utils.data import DataLoader, random_split"
   ]
  },
  {
   "cell_type": "markdown",
   "metadata": {},
   "source": [
    "## Load the Dataset\n",
    "\n",
    "Specify your transforms as a list if you intend to .\n",
    "The transforms module is already loaded as `transforms`.\n",
    "\n",
    "MNIST is fortunately included in the torchvision module.\n",
    "Then, you can create your dataset using the `MNIST` object from `torchvision.datasets` ([the documentation is available here](https://pytorch.org/vision/stable/datasets.html#mnist)).\n",
    "Make sure to specify `download=True`! \n",
    "\n",
    "Once your dataset is created, you'll also need to define a `DataLoader` from the `torch.utils.data` module for both the train and the test set."
   ]
  },
  {
   "cell_type": "markdown",
   "metadata": {},
   "source": [
    "## Create train, validation and te"
   ]
  },
  {
   "cell_type": "code",
   "execution_count": 10,
   "metadata": {
    "tags": []
   },
   "outputs": [],
   "source": [
    "# Define transforms\n",
    "transforms = transforms.ToTensor()\n",
    "\n",
    "train_data = torchvision.datasets.MNIST(root=\"data\", train=True, download=True, transform=transforms)\n",
    "\n",
    "# Define the size of the validation set\n",
    "validation_split = 0.2\n",
    "train_size = int((1 - validation_split) * len(train_data))\n",
    "validation_size = len(train_data) - train_size\n",
    "\n",
    "# Split the dataset\n",
    "train_subset, validation_subset = random_split(train_data, [train_size, validation_size])\n",
    "\n",
    "# Define dataloaders\n",
    "train_loader = DataLoader(train_subset, batch_size=100, shuffle=True)\n",
    "validation_loader = DataLoader(validation_subset, batch_size=100, shuffle=True)\n",
    "\n",
    "# Create test set and define test dataloader\n",
    "test_data = torchvision.datasets.MNIST(root=\"data\", train=False, download=True, transform=transforms)\n",
    "test_loader = DataLoader(test_data, batch_size=100)"
   ]
  },
  {
   "cell_type": "markdown",
   "metadata": {},
   "source": [
    "## Justify your preprocessing\n",
    "\n"
   ]
  },
  {
   "cell_type": "markdown",
   "metadata": {},
   "source": [
    "###  The data needs to be converted to tensor so that deep learning models can ingest them."
   ]
  },
  {
   "cell_type": "markdown",
   "metadata": {},
   "source": [
    "## Explore the Dataset\n",
    "Using matplotlib, numpy, and torch, explore the dimensions of your data.\n",
    "\n",
    "You can view images using the `show5` function defined below – it takes a data loader as an argument.\n",
    "Remember that normalized images will look really weird to you! You may want to try changing your transforms to view images.\n",
    "Typically using no transforms other than `toTensor()` works well for viewing – but not as well for training your network.\n",
    "If `show5` doesn't work, go back and check your code for creating your data loaders and your training/test sets."
   ]
  },
  {
   "cell_type": "code",
   "execution_count": 11,
   "metadata": {
    "tags": []
   },
   "outputs": [],
   "source": [
    "## This cell contains a function for showing 5 images from a dataloader – DO NOT CHANGE THE CONTENTS! ##\n",
    "def show5(img_loader):\n",
    "    dataiter = iter(img_loader)\n",
    "    \n",
    "    batch = next(dataiter)\n",
    "    labels = batch[1][0:5]\n",
    "    images = batch[0][0:5]\n",
    "    for i in range(5):\n",
    "        print(int(labels[i].detach()))\n",
    "    \n",
    "        image = images[i].numpy()\n",
    "        plt.imshow(image.T.squeeze().T)\n",
    "        plt.show()"
   ]
  },
  {
   "cell_type": "code",
   "execution_count": 12,
   "metadata": {
    "tags": []
   },
   "outputs": [
    {
     "name": "stdout",
     "output_type": "stream",
     "text": [
      "number of images: torch.Size([100, 1, 28, 28])\n",
      "number of labels: torch.Size([100])\n"
     ]
    }
   ],
   "source": [
    "# Explore data\n",
    "dataiter = iter(train_loader)\n",
    "images, labels = next(dataiter)\n",
    "\n",
    "print(\"number of images: {}\".format(images.shape))\n",
    "print(\"number of labels: {}\".format(labels.shape))"
   ]
  },
  {
   "cell_type": "code",
   "execution_count": 13,
   "metadata": {
    "tags": []
   },
   "outputs": [
    {
     "name": "stdout",
     "output_type": "stream",
     "text": [
      "1\n"
     ]
    },
    {
     "data": {
      "image/png": "[encoded data removed]",
      "text/plain": [
       "<Figure size 640x480 with 1 Axes>"
      ]
     },
     "metadata": {},
     "output_type": "display_data"
    },
    {
     "name": "stdout",
     "output_type": "stream",
     "text": [
      "8\n"
     ]
    },
    {
     "data": {
      "image/png": "[encoded data removed]",
      "text/plain": [
       "<Figure size 640x480 with 1 Axes>"
      ]
     },
     "metadata": {},
     "output_type": "display_data"
    },
    {
     "name": "stdout",
     "output_type": "stream",
     "text": [
      "0\n"
     ]
    },
    {
     "data": {
      "image/png": "[encoded data removed]",
      "text/plain": [
       "<Figure size 640x480 with 1 Axes>"
      ]
     },
     "metadata": {},
     "output_type": "display_data"
    },
    {
     "name": "stdout",
     "output_type": "stream",
     "text": [
      "9\n"
     ]
    },
    {
     "data": {
      "image/png": "[encoded data removed]",
      "text/plain": [
       "<Figure size 640x480 with 1 Axes>"
      ]
     },
     "metadata": {},
     "output_type": "display_data"
    },
    {
     "name": "stdout",
     "output_type": "stream",
     "text": [
      "1\n"
     ]
    },
    {
     "data": {
      "image/png": "[encoded data removed]",
      "text/plain": [
       "<Figure size 640x480 with 1 Axes>"
      ]
     },
     "metadata": {},
     "output_type": "display_data"
    }
   ],
   "source": [
    "show5(train_loader)"
   ]
  },
  {
   "cell_type": "markdown",
   "metadata": {},
   "source": [
    "## Build your Neural Network\n",
    "Using the layers in `torch.nn` (which has been imported as `nn`) and the `torch.nn.functional` module (imported as `F`), construct a neural network based on the parameters of the dataset.\n",
    "Use any architecture you like. \n",
    "\n",
    "*Note*: If you did not flatten your tensors in your transforms or as part of your preprocessing and you are using only `Linear` layers, make sure to use the `Flatten` layer in your network!"
   ]
  },
  {
   "cell_type": "code",
   "execution_count": 14,
   "metadata": {
    "tags": []
   },
   "outputs": [],
   "source": [
    "class Net(nn.Module):\n",
    "    def __init__(self, dropout=False):\n",
    "        super(Net, self).__init__()\n",
    "        self.activation = F.relu\n",
    "        self.layer1 = nn.Linear(28 * 28, 128)\n",
    "        self.layer2 = nn.Linear(128, 64)\n",
    "        self.layer3 = nn.Linear(64, 10)\n",
    "        self.use_dropout = dropout\n",
    "        self.dropout = nn.Dropout(0.3)\n",
    "        \n",
    "    def forward(self, x):\n",
    "        x = torch.flatten(x, 1)\n",
    "        x = self.activation(self.layer1(x))\n",
    "        x = self.activation(self.layer2(x))\n",
    "        if self.use_dropout:\n",
    "            x = self.dropout(x) \n",
    "        x = self.layer3(x)\n",
    "        return x\n",
    "    \n",
    "net = Net(dropout=False)"
   ]
  },
  {
   "cell_type": "code",
   "execution_count": 15,
   "metadata": {
    "tags": []
   },
   "outputs": [],
   "source": [
    "device = torch.device('cuda' if torch.cuda.is_available() else 'cpu')\n",
    "net = net.to(device)"
   ]
  },
  {
   "cell_type": "markdown",
   "metadata": {},
   "source": [
    "Specify a loss function and an optimizer, and instantiate the model.\n",
    "\n",
    "If you use a less common loss function, please note why you chose that loss function in a comment."
   ]
  },
  {
   "cell_type": "code",
   "execution_count": 16,
   "metadata": {
    "tags": []
   },
   "outputs": [],
   "source": [
    "\n",
    "optimizer = optim.Adam(net.parameters(), lr=0.001)\n",
    "\n",
    "\n",
    "criterion = nn.CrossEntropyLoss()"
   ]
  },
  {
   "cell_type": "markdown",
   "metadata": {},
   "source": [
    "## Running your Neural Network\n",
    "Use whatever method you like to train your neural network, and ensure you record the average loss at each epoch. \n",
    "Don't forget to use `torch.device()` and the `.to()` method for both your model and your data if you are using GPU!\n",
    "\n",
    "If you want to print your loss **during** each epoch, you can use the `enumerate` function and print the loss after a set number of batches. 250 batches works well for most people!"
   ]
  },
  {
   "cell_type": "code",
   "execution_count": 17,
   "metadata": {
    "tags": []
   },
   "outputs": [],
   "source": [
    "num_epochs = 15\n",
    "\n",
    "# make lists to save the loss values\n",
    "train_loss_history = list()\n",
    "val_loss_history = list()"
   ]
  },
  {
   "cell_type": "code",
   "execution_count": 19,
   "metadata": {
    "tags": []
   },
   "outputs": [],
   "source": [
    "## YOUR CODE HERE ##\n",
    "\n",
    "def train(net, num_epochs):\n",
    "    for epoch in range(num_epochs):\n",
    "        net = net.to(device)\n",
    "        net.train()\n",
    "        train_loss = 0.0\n",
    "        train_correct = 0\n",
    "        for i, data in enumerate(train_loader):\n",
    "            # data is a list of [inputs, labels]\n",
    "            inputs, labels = data\n",
    "            \n",
    "            inputs = inputs.to(device)\n",
    "            # Zero out the gradients of the optimizer\n",
    "            optimizer.zero_grad()\n",
    "\n",
    "            # Get the outputs of your model and compute your loss\n",
    "            outputs = net(inputs)\n",
    "            outputs = outputs.cpu()\n",
    "\n",
    "            loss = criterion(outputs, labels)\n",
    "\n",
    "            # Compute the loss gradient using the backward method and have the optimizer take a step\n",
    "            loss.backward()\n",
    "            optimizer.step()\n",
    "\n",
    "            # Compute the accuracy and print the accuracy and loss\n",
    "            _, preds = torch.max(outputs.data, 1)\n",
    "            train_correct += (preds == labels).sum().item()\n",
    "            train_loss += loss.item()\n",
    "        print(f'Epoch {epoch + 1} training accuracy: {train_correct/len(train_loader):.2f}% training loss: {train_loss/len(train_loader):.5f}')\n",
    "        train_loss_history.append(train_loss/len(train_loader))\n",
    "\n",
    "        # The validation step is done for you.\n",
    "        val_loss = 0.0\n",
    "        val_correct = 0\n",
    "        net.eval()\n",
    "        for inputs, labels in validation_loader:\n",
    "            inputs = inputs.to(device)\n",
    "            outputs = net(inputs)\n",
    "            outputs = outputs.cpu()\n",
    "            loss = criterion(outputs, labels)\n",
    "\n",
    "            _, preds = torch.max(outputs.data, 1)\n",
    "            val_correct += (preds == labels).sum().item()\n",
    "            val_loss += loss.item()\n",
    "        print(f'Epoch {epoch + 1} validation accuracy: {val_correct/len(test_loader):.2f}% validation loss: {val_loss/len(test_loader):.5f}')\n",
    "        val_loss_history.append(val_loss/len(test_loader))"
   ]
  },
  {
   "cell_type": "code",
   "execution_count": 20,
   "metadata": {
    "tags": []
   },
   "outputs": [
    {
     "name": "stdout",
     "output_type": "stream",
     "text": [
      "Epoch 1 training accuracy: 88.72% training loss: 0.41945\n",
      "Epoch 1 validation accuracy: 112.64% validation loss: 0.26172\n",
      "Epoch 2 training accuracy: 94.85% training loss: 0.17520\n",
      "Epoch 2 validation accuracy: 114.76% validation loss: 0.18134\n",
      "Epoch 3 training accuracy: 96.31% training loss: 0.12219\n",
      "Epoch 3 validation accuracy: 115.58% validation loss: 0.15213\n",
      "Epoch 4 training accuracy: 97.23% training loss: 0.09151\n",
      "Epoch 4 validation accuracy: 115.84% validation loss: 0.14025\n",
      "Epoch 5 training accuracy: 97.74% training loss: 0.07299\n",
      "Epoch 5 validation accuracy: 116.43% validation loss: 0.12534\n",
      "Epoch 6 training accuracy: 98.16% training loss: 0.05937\n",
      "Epoch 6 validation accuracy: 116.64% validation loss: 0.10974\n",
      "Epoch 7 training accuracy: 98.42% training loss: 0.04927\n",
      "Epoch 7 validation accuracy: 116.85% validation loss: 0.10540\n",
      "Epoch 8 training accuracy: 98.80% training loss: 0.04006\n",
      "Epoch 8 validation accuracy: 116.95% validation loss: 0.10966\n",
      "Epoch 9 training accuracy: 98.97% training loss: 0.03351\n",
      "Epoch 9 validation accuracy: 117.18% validation loss: 0.09710\n",
      "Epoch 10 training accuracy: 99.17% training loss: 0.02744\n",
      "Epoch 10 validation accuracy: 116.93% validation loss: 0.10787\n",
      "Epoch 11 training accuracy: 99.29% training loss: 0.02407\n",
      "Epoch 11 validation accuracy: 117.08% validation loss: 0.10474\n",
      "Epoch 12 training accuracy: 99.43% training loss: 0.01898\n",
      "Epoch 12 validation accuracy: 117.06% validation loss: 0.10863\n",
      "Epoch 13 training accuracy: 99.50% training loss: 0.01627\n",
      "Epoch 13 validation accuracy: 117.09% validation loss: 0.11896\n",
      "Epoch 14 training accuracy: 99.56% training loss: 0.01429\n",
      "Epoch 14 validation accuracy: 116.81% validation loss: 0.13336\n",
      "Epoch 15 training accuracy: 99.59% training loss: 0.01327\n",
      "Epoch 15 validation accuracy: 117.12% validation loss: 0.12274\n"
     ]
    }
   ],
   "source": [
    "train(net, num_epochs)"
   ]
  },
  {
   "cell_type": "markdown",
   "metadata": {},
   "source": [
    "# Save the trained model"
   ]
  },
  {
   "cell_type": "code",
   "execution_count": 21,
   "metadata": {
    "tags": []
   },
   "outputs": [],
   "source": [
    "torch.save(net, \"digit_classifier_1.pth\")"
   ]
  },
  {
   "cell_type": "markdown",
   "metadata": {},
   "source": [
    "Plot the training loss (and validation loss/accuracy, if recorded)."
   ]
  },
  {
   "cell_type": "code",
   "execution_count": 22,
   "metadata": {
    "tags": []
   },
   "outputs": [
    {
     "data": {
      "image/png": "[encoded data removed]",
      "text/plain": [
       "<Figure size 640x480 with 1 Axes>"
      ]
     },
     "metadata": {},
     "output_type": "display_data"
    }
   ],
   "source": [
    "## YOUR CODE HERE ##\n",
    "plt.plot(train_loss_history, label=\"Training Loss\")\n",
    "plt.plot(val_loss_history, label=\"Validation Loss\")\n",
    "plt.legend()\n",
    "plt.show()"
   ]
  },
  {
   "cell_type": "markdown",
   "metadata": {},
   "source": [
    "## Testing your model\n",
    "Using the previously created `DataLoader` for the test set, compute the percentage of correct predictions using the highest probability prediction. \n",
    "\n",
    "If your accuracy is over 90%, great work, but see if you can push a bit further! \n",
    "If your accuracy is under 90%, you'll need to make improvements.\n",
    "Go back and check your model architecture, loss function, and optimizer to make sure they're appropriate for an image classification task."
   ]
  },
  {
   "cell_type": "code",
   "execution_count": 23,
   "metadata": {
    "tags": []
   },
   "outputs": [],
   "source": [
    "## YOUR CODE HERE ##\n",
    "def test(net, test_loader, criterion):\n",
    "    net = net.to('cpu')\n",
    "    net.eval()  # Set the model to evaluation mode\n",
    "    test_loss = 0\n",
    "    test_correct = 0\n",
    "    with torch.no_grad():  # Disable gradient computation\n",
    "        for i, data in enumerate(test_loader):\n",
    "            inputs, labels = data\n",
    "            outputs = net(inputs)\n",
    "            loss = criterion(outputs, labels)\n",
    "            \n",
    "            _, preds = torch.max(outputs.data, 1)\n",
    "            test_correct += (preds == labels).sum().item()\n",
    "            test_loss += loss.item()\n",
    "    \n",
    "    print(f'Test accuracy: {test_correct / len(test_loader.dataset):.2f}%')\n",
    "    print(f'Test loss: {test_loss / len(test_loader):.5f}')\n"
   ]
  },
  {
   "cell_type": "code",
   "execution_count": 24,
   "metadata": {
    "tags": []
   },
   "outputs": [
    {
     "name": "stdout",
     "output_type": "stream",
     "text": [
      "Test accuracy: 0.98%\n",
      "Test loss: 0.09646\n"
     ]
    }
   ],
   "source": [
    "test(net, test_loader, criterion)"
   ]
  },
  {
   "cell_type": "markdown",
   "metadata": {},
   "source": [
    "## Improving your model\n",
    "\n",
    "Let's see if we can squeeze in more performance by adding `dropout` a  popular regularization technique."
   ]
  },
  {
   "cell_type": "code",
   "execution_count": 25,
   "metadata": {
    "tags": []
   },
   "outputs": [],
   "source": [
    "net2 = Net(dropout=True)"
   ]
  },
  {
   "cell_type": "code",
   "execution_count": 26,
   "metadata": {
    "tags": []
   },
   "outputs": [
    {
     "name": "stdout",
     "output_type": "stream",
     "text": [
      "Epoch 1 training accuracy: 8.77% training loss: 2.30784\n",
      "Epoch 1 validation accuracy: 10.61% validation loss: 2.76873\n",
      "Epoch 2 training accuracy: 8.85% training loss: 2.30798\n",
      "Epoch 2 validation accuracy: 10.61% validation loss: 2.76873\n",
      "Epoch 3 training accuracy: 8.81% training loss: 2.30778\n",
      "Epoch 3 validation accuracy: 10.61% validation loss: 2.76873\n",
      "Epoch 4 training accuracy: 8.78% training loss: 2.30771\n",
      "Epoch 4 validation accuracy: 10.61% validation loss: 2.76873\n",
      "Epoch 5 training accuracy: 8.90% training loss: 2.30771\n",
      "Epoch 5 validation accuracy: 10.61% validation loss: 2.76873\n",
      "Epoch 6 training accuracy: 8.99% training loss: 2.30792\n",
      "Epoch 6 validation accuracy: 10.61% validation loss: 2.76873\n",
      "Epoch 7 training accuracy: 8.76% training loss: 2.30795\n",
      "Epoch 7 validation accuracy: 10.61% validation loss: 2.76873\n",
      "Epoch 8 training accuracy: 8.77% training loss: 2.30799\n",
      "Epoch 8 validation accuracy: 10.61% validation loss: 2.76873\n",
      "Epoch 9 training accuracy: 8.88% training loss: 2.30791\n",
      "Epoch 9 validation accuracy: 10.61% validation loss: 2.76873\n",
      "Epoch 10 training accuracy: 8.87% training loss: 2.30802\n",
      "Epoch 10 validation accuracy: 10.61% validation loss: 2.76873\n",
      "Epoch 11 training accuracy: 8.76% training loss: 2.30780\n",
      "Epoch 11 validation accuracy: 10.61% validation loss: 2.76873\n",
      "Epoch 12 training accuracy: 8.78% training loss: 2.30787\n",
      "Epoch 12 validation accuracy: 10.61% validation loss: 2.76873\n",
      "Epoch 13 training accuracy: 8.78% training loss: 2.30793\n",
      "Epoch 13 validation accuracy: 10.61% validation loss: 2.76873\n",
      "Epoch 14 training accuracy: 8.90% training loss: 2.30804\n",
      "Epoch 14 validation accuracy: 10.61% validation loss: 2.76873\n",
      "Epoch 15 training accuracy: 8.86% training loss: 2.30798\n",
      "Epoch 15 validation accuracy: 10.61% validation loss: 2.76873\n"
     ]
    }
   ],
   "source": [
    "train(net2, num_epochs)"
   ]
  },
  {
   "cell_type": "code",
   "execution_count": 42,
   "metadata": {
    "tags": []
   },
   "outputs": [
    {
     "data": {
      "image/png": "[encoded data removed]",
      "text/plain": [
       "<Figure size 640x480 with 1 Axes>"
      ]
     },
     "metadata": {},
     "output_type": "display_data"
    }
   ],
   "source": [
    "plt.plot(train_loss_history, label=\"Training Loss\")\n",
    "plt.plot(val_loss_history, label=\"Validation Loss\")\n",
    "plt.legend()\n",
    "plt.show()"
   ]
  },
  {
   "cell_type": "markdown",
   "metadata": {},
   "source": [
    "# Evaluate the test scores"
   ]
  },
  {
   "cell_type": "code",
   "execution_count": 43,
   "metadata": {
    "tags": []
   },
   "outputs": [
    {
     "name": "stdout",
     "output_type": "stream",
     "text": [
      "Test accuracy: 0.09%\n",
      "Test loss: 2.30521\n"
     ]
    }
   ],
   "source": [
    "test(net2, test_loader, criterion)"
   ]
  },
  {
   "cell_type": "code",
   "execution_count": 44,
   "metadata": {
    "tags": []
   },
   "outputs": [],
   "source": [
    "torch.save(net, \"digit_classifier_2.pth\")"
   ]
  },
  {
   "cell_type": "markdown",
   "metadata": {},
   "source": [
    "## Conclusion\n",
    "It seems our model performed better as in had `98%` test accuracy without regularization. So our best model is `digit_classifier_1.pt` in this case."
   ]
  }
 ],
 "metadata": {
  "kernelspec": {
   "display_name": "conda_pytorch_p310",
   "language": "python",
   "name": "conda_pytorch_p310"
  },
  "language_info": {
   "codemirror_mode": {
    "name": "ipython",
    "version": 3
   },
   "file_extension": ".py",
   "mimetype": "text/x-python",
   "name": "python",
   "nbconvert_exporter": "python",
   "pygments_lexer": "ipython3",
   "version": "3.10.14"
  }
 },
 "nbformat": 4,
 "nbformat_minor": 4
}
